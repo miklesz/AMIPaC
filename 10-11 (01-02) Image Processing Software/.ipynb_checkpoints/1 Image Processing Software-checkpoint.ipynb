{
 "cells": [
  {
   "cell_type": "markdown",
   "id": "12f25afe",
   "metadata": {
    "slideshow": {
     "slide_type": "slide"
    }
   },
   "source": [
    "# Image Processing Software\n",
    "\n",
    "_Mikołaj Leszczuk_, _Andres Vejar_\n",
    "![](https://i.creativecommons.org/l/by/4.0/88x31.png)"
   ]
  },
  {
   "cell_type": "markdown",
   "id": "2b1ee526",
   "metadata": {
    "slideshow": {
     "slide_type": "slide"
    }
   },
   "source": [
    "## Introduction"
   ]
  },
  {
   "cell_type": "markdown",
   "id": "58134775",
   "metadata": {
    "slideshow": {
     "slide_type": "fragment"
    }
   },
   "source": [
    "Determining an object position in the image, recognizing an object or automatic number plate detection - these are all image processing tasks. The aim of this exercise is to get acquainted with the basics of programming using image processing software."
   ]
  },
  {
   "cell_type": "markdown",
   "id": "896f9ddb",
   "metadata": {
    "slideshow": {
     "slide_type": "slide"
    }
   },
   "source": [
    "## Image Processing Software"
   ]
  },
  {
   "cell_type": "markdown",
   "id": "195ada44",
   "metadata": {
    "slideshow": {
     "slide_type": "fragment"
    }
   },
   "source": [
    "* **Software Library** – collection of resources used by computer programs, including:\n",
    "  * Pre-written subroutines (optimized implementations of frequently used operations)\n",
    "  * Classes\n",
    "  * Specifications for:\n",
    "    * Constants (e.g., minimum face size in face detection)\n",
    "    * Type\n",
    "* Once written functions to be used repeatedly"
   ]
  },
  {
   "cell_type": "markdown",
   "id": "268462b5",
   "metadata": {
    "slideshow": {
     "slide_type": "subslide"
    }
   },
   "source": [
    "* Image processing libraries delivering functions allowing to easily work with images\n",
    "* Example image processing functions:\n",
    "  * **Filtering**\n",
    "  * **Binarisation**\n",
    "  * **Segmentation**\n",
    "  * **Geometric transformation**\n",
    "  * **Compression**\n",
    "  * **Super-resolution**"
   ]
  },
  {
   "cell_type": "markdown",
   "id": "c1affa1d",
   "metadata": {
    "slideshow": {
     "slide_type": "slide"
    }
   },
   "source": [
    "## MATLAB Image Processing Toolbox\n",
    "\n",
    "![First eigenfunction of the L-shaped membrane, resembling (but not identical) to MATLAB's logo trademarked by MathWorks Inc.](https://upload.wikimedia.org/wikipedia/commons/thumb/2/21/Matlab_Logo.png/534px-Matlab_Logo.png)"
   ]
  },
  {
   "cell_type": "markdown",
   "id": "5753d078",
   "metadata": {
    "slideshow": {
     "slide_type": "subslide"
    }
   },
   "source": [
    "* MATrix LABoratory\n",
    "* Multi-paradigm numerical computing environment\n",
    "* *Proprietary* programming language. Free alternatives available: [GNU Octave](https://octave.org/). Dassault Systemes's [Scilab](https://www.scilab.org/).\n",
    "* Developed by MathWorks\n",
    "* Software tools for image processing"
   ]
  },
  {
   "cell_type": "markdown",
   "id": "1e0e13df",
   "metadata": {
    "slideshow": {
     "slide_type": "slide"
    }
   },
   "source": [
    "## Generic Image Library (GIL)\n",
    "![Logo of Boost GIL](https://www.boost.org/doc/libs/1_83_0/libs/gil/doc/html/_static/gil.png)\n"
   ]
  },
  {
   "cell_type": "markdown",
   "id": "6a093947",
   "metadata": {
    "slideshow": {
     "slide_type": "subslide"
    }
   },
   "source": [
    "* C++ library allowing for writing generic imaging algorithms\n",
    "* Originally developed by Adobe. Part of Boost C++ libraries since 2006. \n",
    "* Designed with following 5 goals in mind:\n",
    "  * **Generality**\n",
    "  * **Performance**\n",
    "  * **Flexibility**\n",
    "  * **Extensibility**\n",
    "  * **Compatibility**"
   ]
  },
  {
   "cell_type": "markdown",
   "id": "76f68222",
   "metadata": {
    "slideshow": {
     "slide_type": "slide"
    }
   },
   "source": [
    "## Point Cloud Library (PCL)\n",
    "\n",
    "![The PCL logo is composed of the 3 lowercase letters p, c, l and a cloud type shape with a dot inside. The logo combines several motifs in the spirit of Open Source and Point Clouds](https://upload.wikimedia.org/wikipedia/commons/4/4a/Pcl_%28PointClouds_library%29_logo_with_text.png)"
   ]
  },
  {
   "cell_type": "markdown",
   "id": "f60bdf80",
   "metadata": {
    "slideshow": {
     "slide_type": "subslide"
    }
   },
   "source": [
    "* **Large scale, open project** for 2D/3D image & point cloud processing\n",
    "* Framework containing numerous state-of-the art algorithms including:\n",
    "  * Filtering\n",
    "  * Feature estimation\n",
    "  * Surface reconstruction\n",
    "  * Registration\n",
    "  * Model fitting\n",
    "  * Segmentation"
   ]
  },
  {
   "cell_type": "markdown",
   "id": "fbb466ea",
   "metadata": {
    "slideshow": {
     "slide_type": "subslide"
    }
   },
   "source": [
    "* Cross-platform – successfully compiled & deployed on:\n",
    "  * Linux\n",
    "  * macOS\n",
    "  * Windows\n",
    "  * Mobile platforms (Android, iOS)\n",
    "* Split into series of smaller code libraries, that can be compiled separately (to simplify development)"
   ]
  },
  {
   "cell_type": "markdown",
   "id": "82af4ad8",
   "metadata": {
    "slideshow": {
     "slide_type": "slide"
    }
   },
   "source": [
    "## Python NumPy\n",
    "\n",
    "![This is a new NumPy logo.](https://upload.wikimedia.org/wikipedia/commons/3/31/NumPy_logo_2020.svg)"
   ]
  },
  {
   "cell_type": "markdown",
   "id": "f3270f19",
   "metadata": {
    "slideshow": {
     "slide_type": "subslide"
    }
   },
   "source": [
    "* Library for **Python programming language**\n",
    "* Adding support for: \n",
    "  * Large, multi-dimensional: \n",
    "    * **Arrays**\n",
    "    * **Matrices**\n",
    "  * Large collection of **high-level mathematical functions** to operate on these arrays"
   ]
  },
  {
   "cell_type": "markdown",
   "id": "5cbc3c5a",
   "metadata": {
    "slideshow": {
     "slide_type": "slide"
    }
   },
   "source": [
    "## Open-Source Computer Vision (OpenCV)\n",
    "\n",
    "![The OpenCV logo is composed of the 3 capital letters O, C, V arranged in a triangle. The logo combines several motifs in the spirit of Open Source and Computer Vision. ](https://upload.wikimedia.org/wikipedia/commons/thumb/3/32/OpenCV_Logo_with_text_svg_version.svg/390px-OpenCV_Logo_with_text_svg_version.svg.png)"
   ]
  },
  {
   "cell_type": "markdown",
   "id": "15af20b4",
   "metadata": {
    "slideshow": {
     "slide_type": "subslide"
    }
   },
   "source": [
    "* Released under BSD license; free for academic & commercial use\n",
    "* Interfaces: C++, C, Python & Java\n",
    "* Supports: Windows, Linux, macOS, iOS & Android\n",
    "* Designed:\n",
    "  * For computational efficiency\n",
    "  * With strong focus on real-time applications \n",
    "* Written in optimized C/C++, taking advantage of multi-core processing\n",
    "* **Most popular, expanded & offering proven functions**\n",
    "* [Click to access the OpenCV documentation index](https://docs.opencv.org)"
   ]
  },
  {
   "cell_type": "markdown",
   "id": "cc099877",
   "metadata": {
    "slideshow": {
     "slide_type": "slide"
    }
   },
   "source": [
    "## Matplotlib\n",
    "\n",
    "![This is the logo for Matplotlib.](https://upload.wikimedia.org/wikipedia/en/5/56/Matplotlib_logo.svg)"
   ]
  },
  {
   "cell_type": "markdown",
   "id": "d745719e",
   "metadata": {
    "slideshow": {
     "slide_type": "fragment"
    }
   },
   "source": [
    "**Matplotlib** is a plotting library for the Python programming language and its numerical mathematics extension NumPy. It provides an object-oriented API for embedding plots into applications using general-purpose GUI toolkits."
   ]
  },
  {
   "cell_type": "markdown",
   "id": "95e95d3f",
   "metadata": {
    "slideshow": {
     "slide_type": "fragment"
    }
   },
   "source": [
    "Pyplot is a Matplotlib module which provides a MATLAB-like interface. Matplotlib is designed to be as usable as MATLAB, with the ability to use Python, and the advantage of being free and open-source."
   ]
  },
  {
   "cell_type": "markdown",
   "id": "f627c0a8",
   "metadata": {
    "slideshow": {
     "slide_type": "slide"
    }
   },
   "source": [
    "## A Few Basic Python Operations on the Following Slides"
   ]
  },
  {
   "cell_type": "markdown",
   "id": "9e6a1d38",
   "metadata": {
    "slideshow": {
     "slide_type": "fragment"
    }
   },
   "source": [
    "The exercise will be performed in Python, NumPy, OpenCV and Matplotlib programming environment, to learn about it."
   ]
  },
  {
   "cell_type": "markdown",
   "id": "3f06d3be",
   "metadata": {
    "slideshow": {
     "slide_type": "slide"
    }
   },
   "source": [
    "## Setup Python with NumPy, OpenCV and Matplotlib"
   ]
  },
  {
   "cell_type": "markdown",
   "id": "ae75fb1e",
   "metadata": {
    "slideshow": {
     "slide_type": "fragment"
    }
   },
   "source": [
    "Python is a general-purpose high-level programming language with an extensive standard library package, whose guiding principle is the readability and clarity of the source code. Its syntax is characterized by transparency and brevity. OpenCV is a library of functions used in image processing, based on open-source code and initiated by Intel. This library is cross-platform, it can be used in macOS, Windows and Linux. Its authors focus on real-time image processing. The distinguishing features of this environment from the MATLAB-based environment are, with a little more complex code, less resourcefulness and the possibility of directly implementing the created solutions."
   ]
  },
  {
   "cell_type": "markdown",
   "id": "cdb9f1e4",
   "metadata": {
    "slideshow": {
     "slide_type": "subslide"
    }
   },
   "source": [
    "The Python programming language does not already include NumPy - a library adding support for large, multi-dimensional image arrays and matrices, along with a large collection of high-level mathematical functions to operate on these image arrays. Furthermore, by default, the Python environment, is unfortunately not configured along with the Matplotlib and OpenCV libraries, on the computer **(except when it was previously configured as part of some previous exercises)**."
   ]
  },
  {
   "cell_type": "markdown",
   "id": "7769e5ea",
   "metadata": {
    "slideshow": {
     "slide_type": "subslide"
    }
   },
   "source": [
    "Tips:\n",
    "1. Use `pip` to `install`:\n",
    "  * NumPy (`numpy`)\n",
    "  * OpenCV (`opencv-python`)\n",
    "  * Matplotlib (`matplotlib`)\n",
    "1. Please note that if you use Python, it is mandatory to use Python 3 (`python3`) version, configured and installed on the machine.\n",
    "1. To start using NumPy, OpenCV and Matplotlib in a Python script, you must make the following imports:\n",
    "```sh\n",
    "pip install numpy\n",
    "pip install opencv-python\n",
    "pip install matplotlib\n",
    "```"
   ]
  },
  {
   "cell_type": "markdown",
   "id": "032f1977",
   "metadata": {
    "slideshow": {
     "slide_type": "slide"
    }
   },
   "source": [
    "### Import the modules to the environment"
   ]
  },
  {
   "cell_type": "code",
   "execution_count": null,
   "id": "d27e6ed4",
   "metadata": {
    "slideshow": {
     "slide_type": "fragment"
    }
   },
   "outputs": [],
   "source": [
    "import numpy as np\n",
    "import cv2\n",
    "import matplotlib.pyplot as plt"
   ]
  },
  {
   "cell_type": "markdown",
   "id": "eac756c5",
   "metadata": {
    "slideshow": {
     "slide_type": "slide"
    }
   },
   "source": [
    "## [USC Signal and Image Processing Institute (SIPI) Image Database](https://sipi.usc.edu/database)"
   ]
  },
  {
   "cell_type": "markdown",
   "id": "aba6346e",
   "metadata": {
    "slideshow": {
     "slide_type": "subslide"
    }
   },
   "source": [
    "* [SIPI](https://sipi.usc.edu/database) Image Database developed in 1970, a standard for image processing research.\n",
    "* The *Mandrill* (Mandrillus sphinx), often described erroneously as *Baboon* is one of the most widely used images. The *Mandrill* is a colorful mamal and  the largest monkey in the world, a [threatened](https://www.iucnredlist.org/species/12754/17952325) specie.\n",
    "* The *Mandrill* SIPI image (filename:`4.2.03.tiff`, 512x512 pixels, Color 24bits/pixel) provides a range of textures and colors (fur, facial hair, bright colorful skin in the nose and cheeks, colorful eyes). It is constantly used for benchmark of color image processing algorithms.\n",
    "* The image is a scan from a magazine picture. The copyright belongs to original publisher or photographer, but neither the magazine nor the photographer are referenced in any source mentioning the image."
   ]
  },
  {
   "cell_type": "markdown",
   "id": "5b169ea7",
   "metadata": {
    "slideshow": {
     "slide_type": "subslide"
    }
   },
   "source": [
    "![Image of a Mandrill used in many image processing experiments.](https://sipi.usc.edu/database/preview/misc/4.2.03.png)\n",
    "\n",
    "\n",
    "[Click to access the actual 512×512px standard test version (tiff).](https://sipi.usc.edu/database/download.php?vol=misc&img=4.2.03)"
   ]
  },
  {
   "cell_type": "markdown",
   "id": "6277c244",
   "metadata": {
    "slideshow": {
     "slide_type": "slide"
    }
   },
   "source": [
    "## Xiph.Org Foundation\n",
    "\n",
    "![Fish xiph org](https://xiph.org/images/logos/fish_xiph_org.png)"
   ]
  },
  {
   "cell_type": "markdown",
   "id": "fc8c91e7",
   "metadata": {
    "slideshow": {
     "slide_type": "fragment"
    }
   },
   "source": [
    "**Xiph.Org Foundation** is a nonprofit organization that produces free multimedia formats and software tools. It focuses on the Ogg family of formats, the most successful of which has been Vorbis, an open and freely licensed audio format and codec designed to compete with the patented WMA, MP3 and AAC. As of 2013, development work was focused on Daala, an open and patent-free video format and codec designed to compete with VP9 and the patented High Efficiency Video Coding."
   ]
  },
  {
   "cell_type": "markdown",
   "id": "b54f99ae",
   "metadata": {
    "slideshow": {
     "slide_type": "subslide"
    }
   },
   "source": [
    "![](https://media.xiph.org/video/derf/thumbnails/akiyo_cif-0001.jpg)\n",
    "\n",
    "[Click to access the Xiph.org Test Media.](https://media.xiph.org)"
   ]
  },
  {
   "cell_type": "markdown",
   "id": "322ac0a4",
   "metadata": {
    "slideshow": {
     "slide_type": "slide"
    }
   },
   "source": [
    "## Reading Images from Local Folder"
   ]
  },
  {
   "cell_type": "markdown",
   "id": "477c3497",
   "metadata": {
    "slideshow": {
     "slide_type": "fragment"
    }
   },
   "source": [
    "Read an image (any image). The image should be in the working directory, or a full path of the image should be given."
   ]
  },
  {
   "cell_type": "markdown",
   "id": "77631592",
   "metadata": {
    "slideshow": {
     "slide_type": "fragment"
    }
   },
   "source": [
    "```python\n",
    "image = cv2.imread(filename)\n",
    "```\n",
    "* `image` - returned image\n",
    "* `filename` - name of file to be loaded"
   ]
  },
  {
   "cell_type": "code",
   "execution_count": null,
   "id": "02825cb5",
   "metadata": {
    "slideshow": {
     "slide_type": "subslide"
    }
   },
   "outputs": [],
   "source": [
    "TEST_IMAGE_FILE = '4.2.03.tiff'\n",
    "image = cv2.imread(TEST_IMAGE_FILE)"
   ]
  },
  {
   "cell_type": "markdown",
   "id": "c7155112",
   "metadata": {
    "slideshow": {
     "slide_type": "slide"
    }
   },
   "source": [
    "## Displaying Images"
   ]
  },
  {
   "cell_type": "markdown",
   "id": "2cdcd883",
   "metadata": {
    "slideshow": {
     "slide_type": "fragment"
    }
   },
   "source": [
    "Display an image."
   ]
  },
  {
   "cell_type": "markdown",
   "id": "0e6580eb",
   "metadata": {
    "slideshow": {
     "slide_type": "fragment"
    }
   },
   "source": [
    "```python\n",
    "plt.imshow(image)\n",
    "```\n",
    "* `image` - image to be shown"
   ]
  },
  {
   "cell_type": "code",
   "execution_count": null,
   "id": "5ca129b8",
   "metadata": {
    "slideshow": {
     "slide_type": "subslide"
    }
   },
   "outputs": [],
   "source": [
    "plt.imshow(image)\n",
    "plt.show()"
   ]
  },
  {
   "cell_type": "markdown",
   "id": "bb242392",
   "metadata": {
    "slideshow": {
     "slide_type": "slide"
    }
   },
   "source": [
    "## Reading Images from URL"
   ]
  },
  {
   "cell_type": "code",
   "execution_count": null,
   "id": "eaf0b220",
   "metadata": {},
   "outputs": [],
   "source": [
    "from urllib.request import urlopen\n",
    "image_url = 'https://sipi.usc.edu/database/preview/misc/4.2.03.png'\n",
    "resp = urlopen(image_url)\n",
    "image = np.asarray(bytearray(resp.read()), dtype='uint8')\n",
    "image = cv2.imdecode(image, cv2.IMREAD_COLOR) \n",
    "plt.imshow(image)"
   ]
  },
  {
   "cell_type": "markdown",
   "id": "03a62d23",
   "metadata": {
    "slideshow": {
     "slide_type": "slide"
    }
   },
   "source": [
    "## Converting from BGR to RGB"
   ]
  },
  {
   "cell_type": "markdown",
   "id": "8d6c28c9",
   "metadata": {
    "slideshow": {
     "slide_type": "fragment"
    }
   },
   "source": [
    "The image is converted by opencv to a numpy array, with a channel order (Blue, Green, Red) or BGR. Matplotlib `imshow` function expects an array with a channel order RGB.\n",
    "Modify your source code in order to convert your image into RGB before displaying it.\n",
    "* You will notice how the blue nose of the mandrill is, after the change, correctly displayed in red.\n",
    "* Similarly, the pinky cheeks in BGR are mapped to light blue in RGB.  "
   ]
  },
  {
   "cell_type": "markdown",
   "id": "02e588b1",
   "metadata": {
    "slideshow": {
     "slide_type": "subslide"
    }
   },
   "source": [
    "```python\n",
    "rgb = cv2.cvtColor(image, cv2.COLOR_BGR2RGB)\n",
    "```\n",
    "* `rgb` - output RGB image of the same size and depth as source image\n",
    "* `input` - source input image"
   ]
  },
  {
   "cell_type": "code",
   "execution_count": null,
   "id": "c76ee42c",
   "metadata": {
    "slideshow": {
     "slide_type": "subslide"
    }
   },
   "outputs": [],
   "source": [
    "rgb = cv2.cvtColor(image, cv2.COLOR_BGR2RGB)\n",
    "plt.imshow(rgb)\n",
    "plt.show()"
   ]
  },
  {
   "cell_type": "markdown",
   "id": "1ded2e1e",
   "metadata": {
    "slideshow": {
     "slide_type": "slide"
    }
   },
   "source": [
    "## Converting to Grayscale"
   ]
  },
  {
   "cell_type": "markdown",
   "id": "76bd0956",
   "metadata": {
    "slideshow": {
     "slide_type": "fragment"
    }
   },
   "source": [
    "Modify your source code in order to convert your image into grayscale before displaying it."
   ]
  },
  {
   "cell_type": "markdown",
   "id": "1ff57c92",
   "metadata": {
    "slideshow": {
     "slide_type": "fragment"
    }
   },
   "source": [
    "```python\n",
    "gray = cv2.cvtColor(image, cv2.COLOR_BGR2GRAY)\n",
    "```\n",
    "* `gray` - output grayscale image of the same size and depth as source image\n",
    "* `input` - source input image"
   ]
  },
  {
   "cell_type": "code",
   "execution_count": null,
   "id": "b1ed2435",
   "metadata": {
    "scrolled": true,
    "slideshow": {
     "slide_type": "subslide"
    }
   },
   "outputs": [],
   "source": [
    "gray = cv2.cvtColor(image, cv2.COLOR_BGR2GRAY)\n",
    "plt.imshow(gray)\n",
    "plt.show()"
   ]
  },
  {
   "cell_type": "markdown",
   "id": "e836749a",
   "metadata": {
    "slideshow": {
     "slide_type": "fragment"
    }
   },
   "source": [
    "[Choosing Colormaps in Matplotlib](https://matplotlib.org/stable/tutorials/colors/colormaps.html)"
   ]
  },
  {
   "cell_type": "code",
   "execution_count": null,
   "id": "09a8b343",
   "metadata": {
    "slideshow": {
     "slide_type": "subslide"
    }
   },
   "outputs": [],
   "source": [
    "plt.imshow(gray, cmap=\"gray\")\n",
    "plt.show()"
   ]
  },
  {
   "cell_type": "markdown",
   "id": "00bb1296",
   "metadata": {
    "slideshow": {
     "slide_type": "slide"
    }
   },
   "source": [
    "## Writing Images"
   ]
  },
  {
   "cell_type": "markdown",
   "id": "f3a46e27",
   "metadata": {
    "slideshow": {
     "slide_type": "fragment"
    }
   },
   "source": [
    "Save the image, using the JPEG codec and JFIF format."
   ]
  },
  {
   "cell_type": "markdown",
   "id": "4476204d",
   "metadata": {
    "slideshow": {
     "slide_type": "fragment"
    }
   },
   "source": [
    "```python\n",
    "cv2.imwrite(filename, image)\n",
    "```\n",
    "* `filename` - name of the file\n",
    "* `image` - image to be saved"
   ]
  },
  {
   "cell_type": "code",
   "execution_count": null,
   "id": "d49857b1",
   "metadata": {
    "slideshow": {
     "slide_type": "subslide"
    }
   },
   "outputs": [],
   "source": [
    "cv2.imwrite(\"gray.jpg\", gray)"
   ]
  },
  {
   "cell_type": "code",
   "execution_count": null,
   "id": "1cd7b41b",
   "metadata": {
    "scrolled": true,
    "slideshow": {
     "slide_type": "fragment"
    }
   },
   "outputs": [],
   "source": [
    "new = cv2.imread(\"gray.jpg\")\n",
    "plt.imshow(new)\n",
    "plt.show()"
   ]
  },
  {
   "cell_type": "markdown",
   "id": "81884563",
   "metadata": {
    "slideshow": {
     "slide_type": "slide"
    }
   },
   "source": [
    "## Reading and Capturing Videos from File"
   ]
  },
  {
   "cell_type": "markdown",
   "id": "8a182b4c",
   "metadata": {
    "slideshow": {
     "slide_type": "fragment"
    }
   },
   "source": [
    "Capture a video from a file. Check the end of the video by checking if frames are read correctly. Display the selected frames.\n",
    "\n",
    "**Please be aware that not all video formats and codecs are readable in the environment. This exercise was tested at least with the Y4M format, using the programming environment as described in the introduction to this exercise.**"
   ]
  },
  {
   "cell_type": "markdown",
   "id": "ad6e41f3",
   "metadata": {
    "slideshow": {
     "slide_type": "subslide"
    }
   },
   "source": [
    "```python\n",
    "object = cv2.VideoCapture(filename)\n",
    "retval, image = cv2.VideoCapture.read(object)\n",
    "cv2.VideoCapture.release()\n",
    "```\n",
    "* `object` - VideoCapture object\n",
    "* `filename` - name of opened video file or image sequence\n",
    "* `retval` - `False` if no more frames in video file to be grabbed\n",
    "* `image` - next, decoded video frame"
   ]
  },
  {
   "cell_type": "code",
   "execution_count": null,
   "id": "ae4346e2",
   "metadata": {
    "slideshow": {
     "slide_type": "fragment"
    }
   },
   "outputs": [],
   "source": [
    "video = []\n",
    "object = cv2.VideoCapture(\"akiyo_cif.y4m\")\n",
    "retval, image = object.read()\n",
    "while retval:\n",
    "    video.append(image)\n",
    "    retval, image = object.read()\n",
    "object.release()"
   ]
  },
  {
   "cell_type": "code",
   "execution_count": null,
   "id": "1caa8058",
   "metadata": {
    "slideshow": {
     "slide_type": "subslide"
    }
   },
   "outputs": [],
   "source": [
    "N = len(video)\n",
    "print('Number of frames captured: {}'.format(N))"
   ]
  },
  {
   "cell_type": "markdown",
   "id": "e862b910",
   "metadata": {
    "slideshow": {
     "slide_type": "slide"
    }
   },
   "source": [
    "### First Frame"
   ]
  },
  {
   "cell_type": "code",
   "execution_count": null,
   "id": "30bda1f7",
   "metadata": {
    "scrolled": true,
    "slideshow": {
     "slide_type": "fragment"
    }
   },
   "outputs": [],
   "source": [
    "plt.imshow(cv2.cvtColor(video[0], cv2.COLOR_BGR2RGB))\n",
    "plt.show()"
   ]
  },
  {
   "cell_type": "markdown",
   "id": "d9181e94",
   "metadata": {
    "slideshow": {
     "slide_type": "slide"
    }
   },
   "source": [
    "### Last Frame"
   ]
  },
  {
   "cell_type": "code",
   "execution_count": null,
   "id": "f9a37b4a",
   "metadata": {
    "slideshow": {
     "slide_type": "fragment"
    }
   },
   "outputs": [],
   "source": [
    "plt.imshow(cv2.cvtColor(video[-1], cv2.COLOR_BGR2RGB))\n",
    "plt.show()"
   ]
  },
  {
   "cell_type": "markdown",
   "id": "a1c089d3",
   "metadata": {
    "slideshow": {
     "slide_type": "slide"
    }
   },
   "source": [
    "### Average Frame"
   ]
  },
  {
   "cell_type": "code",
   "execution_count": null,
   "id": "4b2d8525",
   "metadata": {
    "slideshow": {
     "slide_type": "fragment"
    }
   },
   "outputs": [],
   "source": [
    "avg_frame = np.array(video).mean(axis=0)\n",
    "plt.imshow(cv2.cvtColor(avg_frame.astype(np.uint8), cv2.COLOR_BGR2RGB))\n",
    "plt.show()"
   ]
  },
  {
   "cell_type": "markdown",
   "id": "b7815657",
   "metadata": {
    "slideshow": {
     "slide_type": "slide"
    }
   },
   "source": [
    "### Standard Deviation"
   ]
  },
  {
   "cell_type": "code",
   "execution_count": null,
   "id": "ec9fd7e9",
   "metadata": {
    "slideshow": {
     "slide_type": "fragment"
    }
   },
   "outputs": [],
   "source": [
    "std_frame = np.array(video).std(axis=0)\n",
    "smax = std_frame.max()\n",
    "smin = std_frame.min()\n",
    "# Map to 8 bits\n",
    "std_frame = 255*(std_frame-smin)/(smax - smin)\n",
    "plt.imshow(cv2.cvtColor(std_frame.astype(np.uint8), cv2.COLOR_BGR2RGB))\n",
    "plt.show()"
   ]
  },
  {
   "cell_type": "markdown",
   "id": "32d13676",
   "metadata": {
    "slideshow": {
     "slide_type": "slide"
    }
   },
   "source": [
    "## Writing (Saving) Videos to File"
   ]
  },
  {
   "cell_type": "markdown",
   "id": "015e124c",
   "metadata": {
    "slideshow": {
     "slide_type": "fragment"
    }
   },
   "source": [
    "Save the captured video frame-by-frame, using the Motion JPEG (MJPG) codec and AVI format."
   ]
  },
  {
   "cell_type": "markdown",
   "id": "1a347993",
   "metadata": {
    "slideshow": {
     "slide_type": "subslide"
    }
   },
   "source": [
    "```python\n",
    "fourcc = cv2.VideoWriter_fourcc(*format)\n",
    "object = cv2.VideoWriter(filename, fourcc, fps, frameSize)\n",
    "cv2.VideoWriter.write(image)\n",
    "cv2.VideoWriter.release()\n",
    "```\n",
    "* `fourcc` - 4-character code of codec used to compress frames\n",
    "* `format` - fourcc format (e.g.: `“MJPG”`)\n",
    "* `object` - `VideoWriter` object\n",
    "* `filename` - name of output video file\n",
    "* `fps` - frame-rate of the created video stream\n",
    "* `frameSize` - size of video frames (e.g.: `(column, row)`)\n",
    "* `image` - written frame"
   ]
  },
  {
   "cell_type": "code",
   "execution_count": null,
   "id": "ff473c2c",
   "metadata": {
    "slideshow": {
     "slide_type": "subslide"
    }
   },
   "outputs": [],
   "source": [
    "fourcc = cv2.VideoWriter_fourcc(*\"MJPG\")  # *\"MJPG\" == \"M\", \"J\", \"P\", \"G\"\n",
    "object = cv2.VideoWriter(\"akiyo_cif.avi\", fourcc, 30, (352, 288))\n",
    "for image in video:\n",
    "    object.write(image)\n",
    "object.release()"
   ]
  },
  {
   "cell_type": "code",
   "execution_count": null,
   "id": "61c7b783",
   "metadata": {
    "slideshow": {
     "slide_type": "fragment"
    }
   },
   "outputs": [],
   "source": [
    "new = []\n",
    "object = cv2.VideoCapture(\"akiyo_cif.avi\")\n",
    "retval, image = object.read()\n",
    "while retval:\n",
    "    new.append(image)\n",
    "    retval, image = object.read()\n",
    "object.release()"
   ]
  },
  {
   "cell_type": "code",
   "execution_count": null,
   "id": "d29e5bd4",
   "metadata": {
    "slideshow": {
     "slide_type": "subslide"
    }
   },
   "outputs": [],
   "source": [
    "img_first = cv2.cvtColor(new[0], cv2.COLOR_BGR2RGB)\n",
    "plt.imshow(img_first)\n",
    "plt.show()"
   ]
  },
  {
   "cell_type": "code",
   "execution_count": null,
   "id": "0d916097",
   "metadata": {
    "slideshow": {
     "slide_type": "subslide"
    }
   },
   "outputs": [],
   "source": [
    "img_last = cv2.cvtColor(new[-1], cv2.COLOR_BGR2RGB)\n",
    "plt.imshow(img_last)\n",
    "plt.show()"
   ]
  },
  {
   "cell_type": "markdown",
   "id": "7286dbfb",
   "metadata": {
    "slideshow": {
     "slide_type": "slide"
    }
   },
   "source": [
    "## Accessing and Modifying Pixel Values"
   ]
  },
  {
   "cell_type": "markdown",
   "id": "b13155d5",
   "metadata": {
    "slideshow": {
     "slide_type": "fragment"
    }
   },
   "source": [
    "Access a true-color image pixel value by its row `100` and column `100` coordinates. Access the pixel but only blue value. Modify the same pixel values to `[255, 255, 255]`. Modify the only red value of `[10, 10]` to `0`."
   ]
  },
  {
   "cell_type": "markdown",
   "id": "5517aba1",
   "metadata": {
    "slideshow": {
     "slide_type": "fragment"
    }
   },
   "source": [
    "```python\n",
    "image[row, column, bgr]\n",
    "image.item(row, column, bgr)\n",
    "```\n",
    "* `image` - image\n",
    "* `row` - image row, counting from `0`\n",
    "* `column` - image column, from `0`\n",
    "* `bgr` - blue/green/red channel, counting from `0`"
   ]
  },
  {
   "cell_type": "code",
   "execution_count": null,
   "id": "9f476cd2",
   "metadata": {
    "slideshow": {
     "slide_type": "subslide"
    }
   },
   "outputs": [],
   "source": [
    "image = cv2.imread(TEST_IMAGE_FILE)"
   ]
  },
  {
   "cell_type": "code",
   "execution_count": null,
   "id": "13f77615",
   "metadata": {
    "slideshow": {
     "slide_type": "fragment"
    }
   },
   "outputs": [],
   "source": [
    "print(image[100, 100, 0])"
   ]
  },
  {
   "cell_type": "code",
   "execution_count": null,
   "id": "a8f035ca",
   "metadata": {
    "slideshow": {
     "slide_type": "fragment"
    }
   },
   "outputs": [],
   "source": [
    "print(image.item(100, 100, 0))"
   ]
  },
  {
   "cell_type": "code",
   "execution_count": null,
   "id": "ec3e8e09",
   "metadata": {
    "slideshow": {
     "slide_type": "subslide"
    }
   },
   "outputs": [],
   "source": [
    "image[100, 100, 0] = 255\n",
    "image[100, 100, 1] = 255\n",
    "image[100, 100, 2] = 255\n",
    "fig, axs = plt.subplots(nrows=1, ncols=2)\n",
    "axs[0].imshow(cv2.cvtColor(image, cv2.COLOR_BGR2RGB))\n",
    "# zoom to the pixel\n",
    "axs[0].set_xlim(80, 120)\n",
    "axs[0].set_ylim(80, 120)\n",
    "axs[0].set_title('zoom near pixel')\n",
    "axs[1].imshow(cv2.cvtColor(image, cv2.COLOR_BGR2RGB))\n",
    "axs[1].axhline(100, color='orange')\n",
    "axs[1].axvline(100, color='orange')\n",
    "axs[1].set_title('pixel location')\n",
    "\n",
    "plt.show()"
   ]
  },
  {
   "cell_type": "code",
   "execution_count": null,
   "id": "98092533",
   "metadata": {
    "slideshow": {
     "slide_type": "subslide"
    }
   },
   "outputs": [],
   "source": [
    "image[10, 10, 2] = 0\n",
    "fig, axs = plt.subplots(nrows=1, ncols=2)\n",
    "axs[0].imshow(cv2.cvtColor(image, cv2.COLOR_BGR2RGB))\n",
    "# zoom to the pixel\n",
    "axs[0].set_xlim(0, 20)\n",
    "axs[0].set_ylim(0, 20)\n",
    "axs[0].set_title('zoom near pixel')\n",
    "axs[1].imshow(cv2.cvtColor(image, cv2.COLOR_BGR2RGB))\n",
    "axs[1].axhline(10, color='orange')\n",
    "axs[1].axvline(10, color='orange')\n",
    "axs[1].set_title('pixel location')\n",
    "\n",
    "plt.show()\n"
   ]
  },
  {
   "cell_type": "markdown",
   "id": "442893c3",
   "metadata": {
    "slideshow": {
     "slide_type": "slide"
    }
   },
   "source": [
    "## Accessing Image Properties"
   ]
  },
  {
   "cell_type": "markdown",
   "id": "b0bc9394",
   "metadata": {
    "slideshow": {
     "slide_type": "fragment"
    }
   },
   "source": [
    "Image properties include several rows, columns and channels, type of image data, number of values etc.\n",
    "\n",
    "Access and return a shape of the image being a tuple of several rows, columns and channels (if the image is color).\n",
    "\n",
    "Access and return the total number of values.\n",
    "\n",
    "Obtain and return the image datatype."
   ]
  },
  {
   "cell_type": "markdown",
   "id": "d65f1ab8",
   "metadata": {
    "slideshow": {
     "slide_type": "subslide"
    }
   },
   "source": [
    "```python\n",
    "d = image.shape\n",
    "n = image.size\n",
    "o = image.dtype\n",
    "```\n",
    "* `d` - tuple of array (image) dimensions\n",
    "* `n` - number of elements in array (image)\n",
    "* `o` - data-type of array’s (image's) elements\n",
    "* `image` - image"
   ]
  },
  {
   "cell_type": "code",
   "execution_count": null,
   "id": "b77909e3",
   "metadata": {
    "slideshow": {
     "slide_type": "subslide"
    }
   },
   "outputs": [],
   "source": [
    "print(image.shape)"
   ]
  },
  {
   "cell_type": "code",
   "execution_count": null,
   "id": "ab2cbb6d",
   "metadata": {
    "slideshow": {
     "slide_type": "fragment"
    }
   },
   "outputs": [],
   "source": [
    "print(image.size)"
   ]
  },
  {
   "cell_type": "code",
   "execution_count": null,
   "id": "a39b49f6",
   "metadata": {
    "slideshow": {
     "slide_type": "fragment"
    }
   },
   "outputs": [],
   "source": [
    "print(image.dtype)"
   ]
  },
  {
   "cell_type": "markdown",
   "id": "14dee567",
   "metadata": {
    "slideshow": {
     "slide_type": "slide"
    }
   },
   "source": [
    "## Drawing Circles"
   ]
  },
  {
   "cell_type": "markdown",
   "id": "faeb781d",
   "metadata": {
    "slideshow": {
     "slide_type": "fragment"
    }
   },
   "source": [
    "Drawing circles:"
   ]
  },
  {
   "cell_type": "markdown",
   "id": "4d34a0cb",
   "metadata": {
    "slideshow": {
     "slide_type": "fragment"
    }
   },
   "source": [
    "```python\n",
    "cv2.circle(image, center, radius, color[, thickness[, lineType[, shift]]])\n",
    "```"
   ]
  },
  {
   "cell_type": "markdown",
   "id": "f909911c",
   "metadata": {
    "slideshow": {
     "slide_type": "subslide"
    }
   },
   "source": [
    "**Arguments**:"
   ]
  },
  {
   "cell_type": "markdown",
   "id": "a519435d",
   "metadata": {
    "slideshow": {
     "slide_type": "fragment"
    }
   },
   "source": [
    "* `image` – image where circle drawn\n",
    "* `center` – circle centre\n",
    "* `radius` – circle radius\n",
    "* `color` – circle colour\n",
    "* `thickness` – circle outline thickness, if positive; negative thickness meaning filled circle to be drawn\n",
    "* `lineType` – circle boundary type\n",
    "* `shift` – fractional bits number in coordinates of centre & in radius value"
   ]
  },
  {
   "cell_type": "code",
   "execution_count": null,
   "id": "258ede2d",
   "metadata": {
    "slideshow": {
     "slide_type": "subslide"
    }
   },
   "outputs": [],
   "source": [
    "image = cv2.imread(TEST_IMAGE_FILE)\n",
    "circle = cv2.circle(image, (256, 256), 128, (255, 255, 255), -1)\n",
    "plt.imshow(cv2.cvtColor(circle, cv2.COLOR_BGR2RGB))\n",
    "plt.show()"
   ]
  },
  {
   "cell_type": "markdown",
   "id": "5397562d",
   "metadata": {
    "slideshow": {
     "slide_type": "slide"
    }
   },
   "source": [
    "## Drawing Rectangle"
   ]
  },
  {
   "cell_type": "markdown",
   "id": "9cc9c36d",
   "metadata": {
    "slideshow": {
     "slide_type": "fragment"
    }
   },
   "source": [
    "Drawing simple, thick, or filled up-right rectangle:"
   ]
  },
  {
   "cell_type": "markdown",
   "id": "263747d7",
   "metadata": {
    "slideshow": {
     "slide_type": "fragment"
    }
   },
   "source": [
    "```python\n",
    "cv2.rectangle(image, pt1, pt2, color[, thickness[, lineType[, shift]]])\n",
    "cv2.rectangle(image, rec, color[, thickness[, lineType[, shift]]])\n",
    "```"
   ]
  },
  {
   "cell_type": "markdown",
   "id": "bd256fa2",
   "metadata": {
    "slideshow": {
     "slide_type": "subslide"
    }
   },
   "source": [
    "**Arguments**:"
   ]
  },
  {
   "cell_type": "markdown",
   "id": "cc3de459",
   "metadata": {
    "slideshow": {
     "slide_type": "fragment"
    }
   },
   "source": [
    "* `image` – image\n",
    "* `pt1` – rectangle vertex\n",
    "* `pt2` – rectangle vertex opposite to `pt1`\n",
    "* `rec` – alternative drawn rectangle specification\n",
    "* `color` – rectangle colour or brightness (grayscale image)\n",
    "* `thickness` – thickness of lines making up rectangle; negative values meaning function to draw filled rectangle\n",
    "* `lineType` – line type\n",
    "* `shift` – fractional bits number in point coordinates"
   ]
  },
  {
   "cell_type": "code",
   "execution_count": null,
   "id": "d0501c1c",
   "metadata": {
    "slideshow": {
     "slide_type": "subslide"
    }
   },
   "outputs": [],
   "source": [
    "image = cv2.imread(TEST_IMAGE_FILE)\n",
    "rectangle = cv2.rectangle(image, (128, 128), (384, 384), (255, 255, 255), -1)\n",
    "plt.imshow(cv2.cvtColor(rectangle, cv2.COLOR_BGR2RGB))\n",
    "plt.show()"
   ]
  },
  {
   "cell_type": "markdown",
   "id": "9e37f4fa",
   "metadata": {
    "slideshow": {
     "slide_type": "slide"
    }
   },
   "source": [
    "## Drawing Ellipses"
   ]
  },
  {
   "cell_type": "markdown",
   "id": "477afa01",
   "metadata": {
    "slideshow": {
     "slide_type": "fragment"
    }
   },
   "source": [
    "Drawing simple or thick elliptic arc or filling ellipse sector."
   ]
  },
  {
   "cell_type": "markdown",
   "id": "2f7c65e3",
   "metadata": {
    "slideshow": {
     "slide_type": "fragment"
    }
   },
   "source": [
    "```python\n",
    "cv2.ellipse(image, center, axes, angle, startAngle, endAngle, color[, thickness[, lineType[, shift]]])\n",
    "cv2.ellipse(image, box, color[, thickness[, lineType]])\n",
    "```"
   ]
  },
  {
   "cell_type": "markdown",
   "id": "09fc50a1",
   "metadata": {
    "slideshow": {
     "slide_type": "subslide"
    }
   },
   "source": [
    "**Arguments**:"
   ]
  },
  {
   "cell_type": "markdown",
   "id": "69526191",
   "metadata": {
    "slideshow": {
     "slide_type": "fragment"
    }
   },
   "source": [
    "* `image` – image\n",
    "* `center` – ellipse centre\n",
    "* `axes` – ellipse main axes half size\n",
    "* `angle` – ellipse rotation angle in degrees\n",
    "* `startAngle` – elliptic arc starting angle in degrees\n",
    "* `endAngle` – elliptic arc ending angle in degrees\n",
    "* `box` – alternative ellipse representation; meaning function drawing ellipse inscribed in rotated rectangle"
   ]
  },
  {
   "cell_type": "markdown",
   "id": "0aa0c96b",
   "metadata": {
    "slideshow": {
     "slide_type": "subslide"
    }
   },
   "source": [
    "* `color` – ellipse colour\n",
    "* `thickness` – ellipse arc outline thickness, if positive; otherwise, indicating filled ellipse sector to be drawn\n",
    "* `lineType` – ellipse boundary type\n",
    "* `shift` – fractional bits number in coordinates of centre & values of axes"
   ]
  },
  {
   "cell_type": "code",
   "execution_count": null,
   "id": "3a31f3f7",
   "metadata": {
    "slideshow": {
     "slide_type": "subslide"
    }
   },
   "outputs": [],
   "source": [
    "image = cv2.imread(TEST_IMAGE_FILE)\n",
    "ellipse = cv2.ellipse(image, (256, 256), (64, 128), 0, 0, 360, (255, 255, 255), -1)\n",
    "plt.imshow(cv2.cvtColor(ellipse, cv2.COLOR_BGR2RGB))\n",
    "plt.show()"
   ]
  },
  {
   "cell_type": "markdown",
   "id": "2c305785",
   "metadata": {
    "slideshow": {
     "slide_type": "slide"
    }
   },
   "source": [
    "## Exercises"
   ]
  },
  {
   "cell_type": "markdown",
   "id": "17d16e8d",
   "metadata": {
    "slideshow": {
     "slide_type": "slide"
    }
   },
   "source": [
    "### Exercise 1"
   ]
  },
  {
   "cell_type": "markdown",
   "id": "b418ee05",
   "metadata": {
    "slideshow": {
     "slide_type": "fragment"
    }
   },
   "source": [
    "Given the \"Mandrill\" image load it using OpenCV, split the channels using NumPy and display each channel in a new windows called as the channel.\n",
    "\n",
    "![](https://upload.wikimedia.org/wikipedia/commons/thumb/3/33/Beyoglu_4671_tricolor.png/640px-Beyoglu_4671_tricolor.png)"
   ]
  },
  {
   "cell_type": "markdown",
   "id": "a59952f7",
   "metadata": {
    "slideshow": {
     "slide_type": "slide"
    }
   },
   "source": [
    "### Solution 1"
   ]
  },
  {
   "cell_type": "code",
   "execution_count": null,
   "id": "ed8131a1",
   "metadata": {
    "slideshow": {
     "slide_type": "fragment"
    }
   },
   "outputs": [],
   "source": [
    "import cv2\n",
    "import numpy as np\n",
    "import matplotlib.pyplot as plt\n",
    "img = cv2.imread(TEST_IMAGE_FILE)\n",
    "w, h = img.shape[0], img.shape[1]\n",
    "\n",
    "# channels \n",
    "r = img[:,:,2]\n",
    "g = img[:,:,1]\n",
    "b = img[:,:,0]\n",
    "\n",
    "# channel as images\n",
    "red_img = np.zeros((w, h, 3), dtype=np.uint8)\n",
    "red_img[:,:,0] = r\n",
    "\n",
    "blue_img = np.zeros((w, h, 3), dtype=np.uint8)\n",
    "blue_img[:,:,2] = b\n",
    "\n",
    "green_img = np.zeros((w, h, 3), dtype=np.uint8)\n",
    "green_img[:,:,1] = g\n",
    "\n",
    "\n",
    "fig, axs = plt.subplots(nrows=2, ncols=3)\n",
    "# channels as images\n",
    "axs[0,0].imshow(red_img)\n",
    "axs[0,0].set_title('Red') \n",
    "axs[0,1].imshow(green_img)\n",
    "axs[0,1].set_title('Green')\n",
    "axs[0,2].imshow(blue_img)\n",
    "axs[0,2].set_title('Blue')\n",
    "\n",
    "# channels\n",
    "#COLORMAP = 'cividis'\n",
    "COLORMAP = 'gray'\n",
    "axs[1,0].imshow(r, COLORMAP)\n",
    "axs[1,0].set_title('Red Channel') \n",
    "axs[1,1].imshow(g, COLORMAP)\n",
    "axs[1,1].set_title('Green Channel')\n",
    "im = axs[1,2].imshow(b, COLORMAP, vmin=0, vmax=255)\n",
    "axs[1,2].set_title('Blue Channel')\n",
    "\n",
    "cbar = fig.colorbar(im, location='bottom', ax=axs[1,:])\n",
    "cbar.ax.set_title('Intensity')\n",
    "plt.subplots_adjust(left=0.1,bottom=0.3, right=0.9, top=0.9, wspace=0.8, hspace=0.8)\n",
    "plt.show()"
   ]
  },
  {
   "cell_type": "markdown",
   "id": "e58da510",
   "metadata": {
    "slideshow": {
     "slide_type": "slide"
    }
   },
   "source": [
    "### Exercise 2"
   ]
  },
  {
   "cell_type": "markdown",
   "id": "069b92f7",
   "metadata": {
    "slideshow": {
     "slide_type": "fragment"
    }
   },
   "source": [
    "Using the same image of the previous exercise, load it, copy it converting as gray-scale and replace all pixels with intensity lower than the mean with 0, 1 otherwise. Finally, apply the mask to the original image, keeping the original value where the mask is 1, 0 otherwise.\n",
    "\n",
    "![](https://upload.wikimedia.org/wikipedia/commons/f/fd/Thresholding_example.jpg)"
   ]
  },
  {
   "cell_type": "markdown",
   "id": "c9ef6441",
   "metadata": {
    "slideshow": {
     "slide_type": "slide"
    }
   },
   "source": [
    "### Solution 2"
   ]
  },
  {
   "cell_type": "code",
   "execution_count": null,
   "id": "c77e8907",
   "metadata": {
    "scrolled": true,
    "slideshow": {
     "slide_type": "fragment"
    }
   },
   "outputs": [],
   "source": [
    "import cv2\n",
    "import numpy as np\n",
    "import matplotlib.pyplot as plt\n",
    "img = cv2.imread(TEST_IMAGE_FILE)\n",
    "original = cv2.cvtColor(img, cv2.COLOR_BGR2RGB)\n",
    "gray = cv2.cvtColor(img, cv2.COLOR_BGR2GRAY)\n",
    "gray_mean = gray.mean()\n",
    "mask = (gray >= gray_mean)\n",
    "masked = np.zeros((512, 512, 3),dtype=np.uint8)\n",
    "masked[:,:,0] = img[:,:,2] * mask\n",
    "masked[:,:,1] = img[:,:,1] * mask\n",
    "masked[:,:,2] = img[:,:,0] * mask\n",
    "\n",
    "diff = original.astype(float) -masked.astype(float)\n",
    "# to 8 bits\n",
    "diff_scaled = 255*(diff -diff.min())/(diff.max()-diff.min())\n",
    "\n",
    "fig, axs = plt.subplots(nrows=1, ncols=3)\n",
    "axs[0].set_title('Original')\n",
    "axs[0].imshow(original)\n",
    "axs[1].set_title('Masked')\n",
    "axs[1].imshow(masked)\n",
    "axs[2].set_title('Difference (scaled)')\n",
    "axs[2].imshow(diff_scaled.astype(np.uint8)) \n",
    "plt.show()"
   ]
  }
 ],
 "metadata": {
  "celltoolbar": "Slideshow",
  "kernelspec": {
   "display_name": "Python 3 (ipykernel)",
   "language": "python",
   "name": "python3"
  },
  "language_info": {
   "codemirror_mode": {
    "name": "ipython",
    "version": 3
   },
   "file_extension": ".py",
   "mimetype": "text/x-python",
   "name": "python",
   "nbconvert_exporter": "python",
   "pygments_lexer": "ipython3",
   "version": "3.11.13"
  }
 },
 "nbformat": 4,
 "nbformat_minor": 5
}

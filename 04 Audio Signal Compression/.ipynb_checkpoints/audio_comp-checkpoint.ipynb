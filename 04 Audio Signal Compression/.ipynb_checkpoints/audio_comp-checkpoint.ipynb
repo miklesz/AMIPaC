{
 "cells": [
  {
   "cell_type": "markdown",
   "id": "0edf88c3",
   "metadata": {},
   "source": [
    "# Audio Signal Compression\n",
    "---\n",
    "### Mikołaj Leszczuk, Andres Vejar\n",
    "---\n",
    "## 1. Purpose\n",
    "The aim of this applied experiment is to practice audio signal compression standards. In particular, it is required to analyze the impact of the compression ratio (CR), audio quality, and performance (sound quality compared to the file size) for three popular audio codecs:\n",
    "1. MPEG Audio Layer-3 (MP3)\n",
    "2. Advanced Audio Coding (AAC)\n",
    "3. Vorbis\n",
    "\n",
    "After the analysis, it is required to create simple models of quality for the audio signals compressed by different codecs.\n",
    "\n",
    "The experiment requires a basic knowledge of audio signal compression methods and codecs.\n",
    "\n",
    "## 2. Experiment Description\n",
    "The experiment description is presented as a processing pipeline in the block diagram below:\n",
    "\n",
    "\n",
    "<div><p>\n",
    "    <br />\n",
    "    </p>\n",
    "<img src=\"img/diag.svg\"  width=\"500\">\n",
    "</div>\n",
    "\n",
    "In the diagram, an audio signl $s$ (left) is the source data for the experiment. It represents the *original* audio (without compression) and it will be used as a reference to compare it with compressed versions of the original.\n",
    "Using this audio source $s$, the first operation block $R$ correspond to the creation of a reconstructed (compressed) audio signal $r$, from $s$. Every compression algorithm require to specify a set of parameters that will affect the results of conversion. In this activity, the parameter to study will be the bit rate [1] of the resulting audio files. In the block diagram, the compression parameters are designated as $\\theta$, and the compression operation can be defined by $R(\\theta,s) = r$. \n",
    "\n",
    "To compare the compression ratio with respect to the audio quality of the reconstructed file $r$, objective metrics for distortion are used, that consider the variations between the original audio $s$ and the compressed audio $r$. This numerical evaluation is represented by the block $D$ in the diagram, with $D(s,r) = d$. For example, the absolute error $\\text{AE}[k]$ can be calculated for each audio sample $k=1, 2, \\ldots N_{\\text{samples}}$:\n",
    "$$ \\text{AE}[k] =  \\left | s[k] - r[k] \\right | $$\n",
    "To obtain a single indicator of distortion for the full signal, summary statistics can be used, for example the sum of the absolute errors ($\\text{AE}$) or the mear absolute error $ (\\text{MAE})$:\n",
    "\n",
    "$$ \\text{AE}(s,r) = \n",
    "\\sum_{k=1}^{N_{\\text{samples}}} \\text{AE}[k]$$\n",
    "\n",
    "$$ \\text{MAE}(s,r) = \n",
    "\\frac{1}{N_{\\text{samples}}} \n",
    "\\sum_{k=1}^{N_{\\text{samples}}} \\text{AE}[k]$$\n",
    "\n",
    "To consider subjective measures of quality, a human observer needs to decide which value of quality to set for the reconstructed (compressed) audio signal $r$. This scoring decision is represented by the block $\\text{MOS}$, where $\\text{MOS}(r) = m$. Using the absolute category ranking, there are 5 posible outputs values mapped as:\n",
    "\n",
    "* 5 :\tExcellent\n",
    "* 4 :\tGood\n",
    "* 3 :\tFair\n",
    "* 2 :\tPoor\n",
    "* 1 :\tBad \n",
    "\n",
    "The values $(\\theta,d,m)$ can be used to analyze the impact of the audio compression rate on the audio quality. The empirical analysis can be done using a collection of data points:\n",
    "$(\\theta_0,d_0,m_0), (\\theta_1,d_1, m_1), \\ldots$ to generate a scatter plot of $d$ versus $\\theta$ and $m$ versus $\\theta$. \n",
    "The expected result is that in general, the distortion value will grow with higher compression ratios and that the MOS will fall with higher compression ratios.\n",
    "\n",
    "## 3. Tasks\n",
    "\n",
    "1. **Load the audio file and visualize the waveform**\n",
    "   * Import the audio file into the notebook.\n",
    "   * Plot the raw waveform data (amplitude vs. time) to get an initial sense of the signal.\n",
    "1. **Analyze the audio signal**\n",
    "   * Extract basic metadata (e.g., sample rate, number of channels, duration).\n",
    "   * Compute and display a short-time Fourier transform (spectrogram) to observe frequency components over time.\n",
    "1. **Perform basic pre-processing**\n",
    "   * Normalize the audio signal if needed.\n",
    "   * If the signal is stereo, optionally mix down to mono for simpler processing (or handle each channel separately).\n",
    "1. **Implement a simple compression technique**\n",
    "   * Demonstrate a transform-based approach (e.g., DCT or wavelet transform).\n",
    "   * Retain only a subset of coefficients to compress the audio (e.g., by thresholding or quantization).\n",
    "   * Record and discuss the chosen compression ratio.\n",
    "1. **Reconstruct (decompress) the audio**\n",
    "   * Invert the transform to rebuild the audio signal.\n",
    "   * Save or play back the decompressed audio to subjectively assess quality differences compared to the original.\n",
    "1. **Evaluate compression quality**\n",
    "   * Compute objective metrics (e.g., SNR, RMSE, or perceptual metrics if available) between the original and decompressed signals.\n",
    "   * Summarize the trade-off between file size (or bit rate) and perceived audio quality.\n",
    "1. **Experiment with different parameters**\n",
    "   * Change quantization levels, threshold values, or transform block sizes.\n",
    "   * Observe the impact on audio quality and compression ratio.\n",
    "   * Document any patterns or insights (e.g., at which point the compression becomes audibly or visibly degraded).\n",
    "1. **Compare compression methods** *(optional)*\n",
    "   * If multiple compression methods are provided or can be implemented (e.g., wavelet vs. DCT, or a built-in library like MP3/AAC), compare results in terms of fidelity, compression ratio, and computational complexity.\n",
    "   * Plot the differences in quality metrics (e.g., SNR) for each method to visualize performance trade-offs.\n",
    "1. **Discussion and conclusions**\n",
    "   * Summarize findings on how compression methods affect audio quality and size.\n",
    "   * Propose possible improvements or next steps (e.g., more advanced transforms, psychoacoustic modeling, different bit rates)."
   ]
  },
  {
   "cell_type": "code",
   "execution_count": null,
   "id": "8e68e15f",
   "metadata": {},
   "outputs": [],
   "source": [
    "pip install --upgrade ipympl librosa"
   ]
  },
  {
   "cell_type": "code",
   "execution_count": null,
   "id": "649a5db3",
   "metadata": {},
   "outputs": [],
   "source": [
    "%matplotlib widget\n",
    "from compaud import run_gui\n",
    "run_gui()"
   ]
  },
  {
   "cell_type": "markdown",
   "id": "ecbb18ea",
   "metadata": {},
   "source": [
    "# References\n",
    "[1] *Bit rate*. Wikipedia. Retrieved March 07, 2023, from __[https://en.wikipedia.org/wiki/Bit_rate](https://en.wikipedia.org/wiki/Bit_rate)__.\n"
   ]
  }
 ],
 "metadata": {
  "kernelspec": {
   "display_name": "Python 3 (ipykernel)",
   "language": "python",
   "name": "python3"
  },
  "language_info": {
   "codemirror_mode": {
    "name": "ipython",
    "version": 3
   },
   "file_extension": ".py",
   "mimetype": "text/x-python",
   "name": "python",
   "nbconvert_exporter": "python",
   "pygments_lexer": "ipython3",
   "version": "3.13.0"
  }
 },
 "nbformat": 4,
 "nbformat_minor": 5
}

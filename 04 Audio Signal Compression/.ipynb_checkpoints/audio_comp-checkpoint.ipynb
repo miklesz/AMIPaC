{
 "cells": [
  {
   "cell_type": "markdown",
   "id": "0edf88c3",
   "metadata": {},
   "source": [
    "# Audio Signal Compression\n",
    "---\n",
    "### Mikołaj Leszczuk, Andres Vejar\n",
    "---\n",
    "## 1. Purpose\n",
    "The aim of this applied experiment is to practice audio signal compression standards. In particular, it is required to analyze the impact of the compression ratio (CR), audio quality, and performance (sound quality compared to the file size) for three popular audio codecs:\n",
    "1. MPEG Audio Layer-3 (MP3)\n",
    "2. Advanced Audio Coding (AAC)\n",
    "3. Vorbis\n",
    "\n",
    "After the analysis, it is required to create simple models of quality for the audio signals compressed by different codecs.\n",
    "\n",
    "The experiment requires a basic knowledge of audio signal compression methods and codecs.\n",
    "\n",
    "## 2. Experiment Description\n",
    "The experiment description is presented as a processing pipeline in the block diagram below:\n",
    "\n",
    "\n",
    "<div><p>\n",
    "    <br />\n",
    "    </p>\n",
    "<img src=\"img/diag.svg\"  width=\"500\">\n",
    "</div>\n",
    "\n",
    "In the diagram, an audio signl $s$ (left) is the source data for the experiment. It represents the *original* audio (without compression) and it will be used as a reference to compare it with compressed versions of the original.\n",
    "Using this audio source $s$, the first operation block $R$ correspond to the creation of a reconstructed (compressed) audio signal $r$, from $s$. Every compression algorithm require to specify a set of parameters that will affect the results of conversion. In this activity, the parameter to study will be the bit rate [1] of the resulting audio files. In the block diagram, the compression parameters are designated as $\\theta$, and the compression operation can be defined by $R(\\theta,s) = r$. \n",
    "\n",
    "To compare the compression ratio with respect to the audio quality of the reconstructed file $r$, objective metrics for distortion are used, that consider the variations between the original audio $s$ and the compressed audio $r$. This numerical evaluation is represented by the block $D$ in the diagram, with $D(s,r) = d$. For example, the absolute error $\\text{AE}[k]$ can be calculated for each audio sample $k=1, 2, \\ldots N_{\\text{samples}}$:\n",
    "$$ \\text{AE}[k] =  \\left | s[k] - r[k] \\right | $$\n",
    "To obtain a single indicator of distortion for the full signal, summary statistics can be used, for example the sum of the absolute errors ($\\text{AE}$) or the mear absolute error $ (\\text{MAE})$:\n",
    "\n",
    "$$ \\text{AE}(s,r) = \n",
    "\\sum_{k=1}^{N_{\\text{samples}}} \\text{AE}[k]$$\n",
    "\n",
    "$$ \\text{MAE}(s,r) = \n",
    "\\frac{1}{N_{\\text{samples}}} \n",
    "\\sum_{k=1}^{N_{\\text{samples}}} \\text{AE}[k]$$\n",
    "\n",
    "To consider subjective measures of quality, a human observer needs to decide which value of quality to set for the reconstructed (compressed) audio signal $r$. This scoring decision is represented by the block $\\text{MOS}$, where $\\text{MOS}(r) = m$. Using the absolute category ranking, there are 5 posible outputs values mapped as:\n",
    "\n",
    "* 5 :\tExcellent\n",
    "* 4 :\tGood\n",
    "* 3 :\tFair\n",
    "* 2 :\tPoor\n",
    "* 1 :\tBad \n",
    "\n",
    "The values $(\\theta,d,m)$ can be used to analyze the impact of the audio compression rate on the audio quality. The empirical analysis can be done using a collection of data points:\n",
    "$(\\theta_0,d_0,m_0), (\\theta_1,d_1, m_1), \\ldots$ to generate a scatter plot of $d$ versus $\\theta$ and $m$ versus $\\theta$. \n",
    "The expected result is that in general, the distortion value will grow with higher compression ratios and that the MOS will fall with higher compression ratios.\n",
    "\n",
    "## 3. Tasks\n",
    "\n",
    "1. **Load the audio file and visualize the waveform**\n",
    "   * Import the audio file into the notebook.\n",
    "   * Plot the raw waveform data (amplitude vs. time) to get an initial sense of the signal.\n",
    "1. **Analyze the audio signal**\n",
    "   * Extract basic metadata (e.g., sample rate, number of channels, duration).\n",
    "   * Compute and display a short-time Fourier transform (spectrogram) to observe frequency components over time.\n",
    "1. **Perform basic pre-processing**\n",
    "   * Normalize the audio signal if needed.\n",
    "   * If the signal is stereo, optionally mix down to mono for simpler processing (or handle each channel separately).\n",
    "1. **Implement a simple compression technique**\n",
    "   * Demonstrate a transform-based approach (e.g., DCT or wavelet transform).\n",
    "   * Retain only a subset of coefficients to compress the audio (e.g., by thresholding or quantization).\n",
    "   * Record and discuss the chosen compression ratio.\n",
    "1. **Reconstruct (decompress) the audio**\n",
    "   * Invert the transform to rebuild the audio signal.\n",
    "   * Save or play back the decompressed audio to subjectively assess quality differences compared to the original.\n",
    "1. **Evaluate compression quality**\n",
    "   * Compute objective metrics (e.g., SNR, RMSE, or perceptual metrics if available) between the original and decompressed signals.\n",
    "   * Summarize the trade-off between file size (or bit rate) and perceived audio quality.\n",
    "1. **Experiment with different parameters**\n",
    "   * Change quantization levels, threshold values, or transform block sizes.\n",
    "   * Observe the impact on audio quality and compression ratio.\n",
    "   * Document any patterns or insights (e.g., at which point the compression becomes audibly or visibly degraded).\n",
    "1. **Compare compression methods** *(optional)*\n",
    "   * If multiple compression methods are provided or can be implemented (e.g., wavelet vs. DCT, or a built-in library like MP3/AAC), compare results in terms of fidelity, compression ratio, and computational complexity.\n",
    "   * Plot the differences in quality metrics (e.g., SNR) for each method to visualize performance trade-offs.\n",
    "1. **Discussion and conclusions**\n",
    "   * Summarize findings on how compression methods affect audio quality and size.\n",
    "   * Propose possible improvements or next steps (e.g., more advanced transforms, psychoacoustic modeling, different bit rates)."
   ]
  },
  {
   "cell_type": "code",
   "execution_count": 3,
   "id": "8e68e15f",
   "metadata": {},
   "outputs": [
    {
     "name": "stdout",
     "output_type": "stream",
     "text": [
      "Defaulting to user installation because normal site-packages is not writeable\n",
      "Requirement already satisfied: ipympl in /Users/miklesz/Library/Python/3.13/lib/python/site-packages (0.9.7)\n",
      "Requirement already satisfied: librosa in /Users/miklesz/Library/Python/3.13/lib/python/site-packages (0.11.0)\n",
      "Requirement already satisfied: ffmpeg-python in /Users/miklesz/Library/Python/3.13/lib/python/site-packages (0.2.0)\n",
      "Requirement already satisfied: ipython<10 in /Users/miklesz/Library/Python/3.13/lib/python/site-packages (from ipympl) (8.32.0)\n",
      "Requirement already satisfied: ipywidgets<9,>=7.6.0 in /Users/miklesz/Library/Python/3.13/lib/python/site-packages (from ipympl) (8.1.5)\n",
      "Requirement already satisfied: matplotlib<4,>=3.5.0 in /Users/miklesz/Library/Python/3.13/lib/python/site-packages (from ipympl) (3.10.0)\n",
      "Requirement already satisfied: numpy in /Users/miklesz/Library/Python/3.13/lib/python/site-packages (from ipympl) (2.1.3)\n",
      "Requirement already satisfied: pillow in /Users/miklesz/Library/Python/3.13/lib/python/site-packages (from ipympl) (11.1.0)\n",
      "Requirement already satisfied: traitlets<6 in /Users/miklesz/Library/Python/3.13/lib/python/site-packages (from ipympl) (5.14.3)\n",
      "Requirement already satisfied: audioread>=2.1.9 in /Users/miklesz/Library/Python/3.13/lib/python/site-packages (from librosa) (3.0.1)\n",
      "Requirement already satisfied: numba>=0.51.0 in /Users/miklesz/Library/Python/3.13/lib/python/site-packages (from librosa) (0.61.0)\n",
      "Requirement already satisfied: scipy>=1.6.0 in /Users/miklesz/Library/Python/3.13/lib/python/site-packages (from librosa) (1.15.2)\n",
      "Requirement already satisfied: scikit-learn>=1.1.0 in /Users/miklesz/Library/Python/3.13/lib/python/site-packages (from librosa) (1.6.1)\n",
      "Requirement already satisfied: joblib>=1.0 in /Users/miklesz/Library/Python/3.13/lib/python/site-packages (from librosa) (1.4.2)\n",
      "Requirement already satisfied: decorator>=4.3.0 in /Users/miklesz/Library/Python/3.13/lib/python/site-packages (from librosa) (5.1.1)\n",
      "Requirement already satisfied: soundfile>=0.12.1 in /Users/miklesz/Library/Python/3.13/lib/python/site-packages (from librosa) (0.13.1)\n",
      "Requirement already satisfied: pooch>=1.1 in /Users/miklesz/Library/Python/3.13/lib/python/site-packages (from librosa) (1.8.2)\n",
      "Requirement already satisfied: soxr>=0.3.2 in /Users/miklesz/Library/Python/3.13/lib/python/site-packages (from librosa) (0.5.0.post1)\n",
      "Requirement already satisfied: typing_extensions>=4.1.1 in /Users/miklesz/Library/Python/3.13/lib/python/site-packages (from librosa) (4.12.2)\n",
      "Requirement already satisfied: lazy_loader>=0.1 in /Users/miklesz/Library/Python/3.13/lib/python/site-packages (from librosa) (0.4)\n",
      "Requirement already satisfied: msgpack>=1.0 in /Users/miklesz/Library/Python/3.13/lib/python/site-packages (from librosa) (1.1.0)\n",
      "Requirement already satisfied: standard-aifc in /Users/miklesz/Library/Python/3.13/lib/python/site-packages (from librosa) (3.13.0)\n",
      "Requirement already satisfied: standard-sunau in /Users/miklesz/Library/Python/3.13/lib/python/site-packages (from librosa) (3.13.0)\n",
      "Requirement already satisfied: future in /Users/miklesz/Library/Python/3.13/lib/python/site-packages (from ffmpeg-python) (1.0.0)\n",
      "Requirement already satisfied: jedi>=0.16 in /Users/miklesz/Library/Python/3.13/lib/python/site-packages (from ipython<10->ipympl) (0.19.2)\n",
      "Requirement already satisfied: matplotlib-inline in /Users/miklesz/Library/Python/3.13/lib/python/site-packages (from ipython<10->ipympl) (0.1.7)\n",
      "Requirement already satisfied: pexpect>4.3 in /Users/miklesz/Library/Python/3.13/lib/python/site-packages (from ipython<10->ipympl) (4.9.0)\n",
      "Requirement already satisfied: prompt_toolkit<3.1.0,>=3.0.41 in /Users/miklesz/Library/Python/3.13/lib/python/site-packages (from ipython<10->ipympl) (3.0.50)\n",
      "Requirement already satisfied: pygments>=2.4.0 in /Users/miklesz/Library/Python/3.13/lib/python/site-packages (from ipython<10->ipympl) (2.19.1)\n",
      "Requirement already satisfied: stack_data in /Users/miklesz/Library/Python/3.13/lib/python/site-packages (from ipython<10->ipympl) (0.6.3)\n",
      "Requirement already satisfied: comm>=0.1.3 in /Users/miklesz/Library/Python/3.13/lib/python/site-packages (from ipywidgets<9,>=7.6.0->ipympl) (0.2.2)\n",
      "Requirement already satisfied: widgetsnbextension~=4.0.12 in /Users/miklesz/Library/Python/3.13/lib/python/site-packages (from ipywidgets<9,>=7.6.0->ipympl) (4.0.13)\n",
      "Requirement already satisfied: jupyterlab-widgets~=3.0.12 in /Users/miklesz/Library/Python/3.13/lib/python/site-packages (from ipywidgets<9,>=7.6.0->ipympl) (3.0.13)\n",
      "Requirement already satisfied: packaging in /Users/miklesz/Library/Python/3.13/lib/python/site-packages (from lazy_loader>=0.1->librosa) (24.2)\n",
      "Requirement already satisfied: contourpy>=1.0.1 in /Users/miklesz/Library/Python/3.13/lib/python/site-packages (from matplotlib<4,>=3.5.0->ipympl) (1.3.1)\n",
      "Requirement already satisfied: cycler>=0.10 in /Users/miklesz/Library/Python/3.13/lib/python/site-packages (from matplotlib<4,>=3.5.0->ipympl) (0.12.1)\n",
      "Requirement already satisfied: fonttools>=4.22.0 in /Users/miklesz/Library/Python/3.13/lib/python/site-packages (from matplotlib<4,>=3.5.0->ipympl) (4.56.0)\n",
      "Requirement already satisfied: kiwisolver>=1.3.1 in /Users/miklesz/Library/Python/3.13/lib/python/site-packages (from matplotlib<4,>=3.5.0->ipympl) (1.4.8)\n",
      "Requirement already satisfied: pyparsing>=2.3.1 in /Users/miklesz/Library/Python/3.13/lib/python/site-packages (from matplotlib<4,>=3.5.0->ipympl) (3.2.1)\n",
      "Requirement already satisfied: python-dateutil>=2.7 in /Users/miklesz/Library/Python/3.13/lib/python/site-packages (from matplotlib<4,>=3.5.0->ipympl) (2.9.0.post0)\n",
      "Requirement already satisfied: llvmlite<0.45,>=0.44.0dev0 in /Users/miklesz/Library/Python/3.13/lib/python/site-packages (from numba>=0.51.0->librosa) (0.44.0)\n",
      "Requirement already satisfied: platformdirs>=2.5.0 in /Users/miklesz/Library/Python/3.13/lib/python/site-packages (from pooch>=1.1->librosa) (4.3.6)\n",
      "Requirement already satisfied: requests>=2.19.0 in /Users/miklesz/Library/Python/3.13/lib/python/site-packages (from pooch>=1.1->librosa) (2.32.3)\n",
      "Requirement already satisfied: threadpoolctl>=3.1.0 in /Users/miklesz/Library/Python/3.13/lib/python/site-packages (from scikit-learn>=1.1.0->librosa) (3.5.0)\n",
      "Requirement already satisfied: cffi>=1.0 in /Users/miklesz/Library/Python/3.13/lib/python/site-packages (from soundfile>=0.12.1->librosa) (1.17.1)\n",
      "Requirement already satisfied: standard-chunk in /Users/miklesz/Library/Python/3.13/lib/python/site-packages (from standard-aifc->librosa) (3.13.0)\n",
      "Requirement already satisfied: audioop-lts in /Users/miklesz/Library/Python/3.13/lib/python/site-packages (from standard-aifc->librosa) (0.2.1)\n",
      "Requirement already satisfied: pycparser in /Users/miklesz/Library/Python/3.13/lib/python/site-packages (from cffi>=1.0->soundfile>=0.12.1->librosa) (2.22)\n",
      "Requirement already satisfied: parso<0.9.0,>=0.8.4 in /Users/miklesz/Library/Python/3.13/lib/python/site-packages (from jedi>=0.16->ipython<10->ipympl) (0.8.4)\n",
      "Requirement already satisfied: ptyprocess>=0.5 in /Users/miklesz/Library/Python/3.13/lib/python/site-packages (from pexpect>4.3->ipython<10->ipympl) (0.7.0)\n",
      "Requirement already satisfied: wcwidth in /Users/miklesz/Library/Python/3.13/lib/python/site-packages (from prompt_toolkit<3.1.0,>=3.0.41->ipython<10->ipympl) (0.2.13)\n",
      "Requirement already satisfied: six>=1.5 in /Users/miklesz/Library/Python/3.13/lib/python/site-packages (from python-dateutil>=2.7->matplotlib<4,>=3.5.0->ipympl) (1.17.0)\n",
      "Requirement already satisfied: charset-normalizer<4,>=2 in /Users/miklesz/Library/Python/3.13/lib/python/site-packages (from requests>=2.19.0->pooch>=1.1->librosa) (3.4.1)\n",
      "Requirement already satisfied: idna<4,>=2.5 in /Users/miklesz/Library/Python/3.13/lib/python/site-packages (from requests>=2.19.0->pooch>=1.1->librosa) (3.10)\n",
      "Requirement already satisfied: urllib3<3,>=1.21.1 in /Users/miklesz/Library/Python/3.13/lib/python/site-packages (from requests>=2.19.0->pooch>=1.1->librosa) (2.3.0)\n",
      "Requirement already satisfied: certifi>=2017.4.17 in /Library/Frameworks/Python.framework/Versions/3.13/lib/python3.13/site-packages (from requests>=2.19.0->pooch>=1.1->librosa) (2024.8.30)\n",
      "Requirement already satisfied: executing>=1.2.0 in /Users/miklesz/Library/Python/3.13/lib/python/site-packages (from stack_data->ipython<10->ipympl) (2.2.0)\n",
      "Requirement already satisfied: asttokens>=2.1.0 in /Users/miklesz/Library/Python/3.13/lib/python/site-packages (from stack_data->ipython<10->ipympl) (3.0.0)\n",
      "Requirement already satisfied: pure-eval in /Users/miklesz/Library/Python/3.13/lib/python/site-packages (from stack_data->ipython<10->ipympl) (0.2.3)\n"
     ]
    },
    {
     "name": "stdout",
     "output_type": "stream",
     "text": [
      "Note: you may need to restart the kernel to use updated packages.\n"
     ]
    }
   ],
   "source": [
    "pip install --upgrade ipympl librosa ffmpeg-python"
   ]
  },
  {
   "cell_type": "code",
   "execution_count": 2,
   "id": "649a5db3",
   "metadata": {},
   "outputs": [
    {
     "data": {
      "application/vnd.jupyter.widget-view+json": {
       "model_id": "ffcff6a8ac904253a07365f998b888b2",
       "version_major": 2,
       "version_minor": 0
      },
      "text/plain": [
       "Tab(children=(VBox(children=(HBox(children=(FileUpload(value=(), description='Upload Source', tooltip='Upload …"
      ]
     },
     "metadata": {},
     "output_type": "display_data"
    }
   ],
   "source": [
    "%matplotlib widget\n",
    "from compaud import run_gui\n",
    "run_gui()"
   ]
  },
  {
   "cell_type": "markdown",
   "id": "83144627",
   "metadata": {},
   "source": [
    "## Assignment Tasks\n",
    "\n",
    "Please complete and report the following tasks as part of your assignment:\n",
    "\n",
    "1. Load the provided audio file (e.g., `.wav` file) using `scipy.io.wavfile`.\n",
    "1. Plot the waveform of the audio signal using matplotlib.\n",
    "1. Display basic properties of the audio:\n",
    "   - Sampling rate\n",
    "   - Number of samples\n",
    "   - Duration (in seconds)\n",
    "1. Play the audio using the provided playback function.\n",
    "1. Extract a short segment of the audio (e.g., first 5 seconds) and save it as a new `.wav` file.\n",
    "1. Compress the extracted segment by:\n",
    "   - Reducing the sampling rate\n",
    "   - Changing the number of bits per sample\n",
    "1. Save the compressed audio to new `.wav` files.\n",
    "1. Compare the file sizes and discuss how compression affects audio quality and size."
   ]
  },
  {
   "cell_type": "markdown",
   "id": "ecbb18ea",
   "metadata": {},
   "source": [
    "# References\n",
    "[1] *Bit rate*. Wikipedia. Retrieved March 07, 2023, from __[https://en.wikipedia.org/wiki/Bit_rate](https://en.wikipedia.org/wiki/Bit_rate)__.\n"
   ]
  }
 ],
 "metadata": {
  "kernelspec": {
   "display_name": "Python 3 (ipykernel)",
   "language": "python",
   "name": "python3"
  },
  "language_info": {
   "codemirror_mode": {
    "name": "ipython",
    "version": 3
   },
   "file_extension": ".py",
   "mimetype": "text/x-python",
   "name": "python",
   "nbconvert_exporter": "python",
   "pygments_lexer": "ipython3",
   "version": "3.13.0"
  }
 },
 "nbformat": 4,
 "nbformat_minor": 5
}
